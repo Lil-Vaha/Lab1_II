{
 "cells": [
  {
   "cell_type": "code",
   "execution_count": 1,
   "id": "15770342-8132-46f5-9069-b5316952d022",
   "metadata": {},
   "outputs": [
    {
     "data": {
      "application/json": {
       "cell": {
        "!": "OSMagics",
        "HTML": "Other",
        "SVG": "Other",
        "bash": "Other",
        "capture": "ExecutionMagics",
        "cmd": "Other",
        "code_wrap": "ExecutionMagics",
        "debug": "ExecutionMagics",
        "file": "Other",
        "html": "DisplayMagics",
        "javascript": "DisplayMagics",
        "js": "DisplayMagics",
        "latex": "DisplayMagics",
        "markdown": "DisplayMagics",
        "perl": "Other",
        "prun": "ExecutionMagics",
        "pypy": "Other",
        "python": "Other",
        "python2": "Other",
        "python3": "Other",
        "ruby": "Other",
        "script": "ScriptMagics",
        "sh": "Other",
        "svg": "DisplayMagics",
        "sx": "OSMagics",
        "system": "OSMagics",
        "time": "ExecutionMagics",
        "timeit": "ExecutionMagics",
        "writefile": "OSMagics"
       },
       "line": {
        "alias": "OSMagics",
        "alias_magic": "BasicMagics",
        "autoawait": "AsyncMagics",
        "autocall": "AutoMagics",
        "automagic": "AutoMagics",
        "autosave": "KernelMagics",
        "bookmark": "OSMagics",
        "cd": "OSMagics",
        "clear": "KernelMagics",
        "cls": "KernelMagics",
        "code_wrap": "ExecutionMagics",
        "colors": "BasicMagics",
        "conda": "PackagingMagics",
        "config": "ConfigMagics",
        "connect_info": "KernelMagics",
        "copy": "Other",
        "ddir": "Other",
        "debug": "ExecutionMagics",
        "dhist": "OSMagics",
        "dirs": "OSMagics",
        "doctest_mode": "BasicMagics",
        "echo": "Other",
        "ed": "Other",
        "edit": "KernelMagics",
        "env": "OSMagics",
        "gui": "BasicMagics",
        "hist": "Other",
        "history": "HistoryMagics",
        "killbgscripts": "ScriptMagics",
        "ldir": "Other",
        "less": "KernelMagics",
        "load": "CodeMagics",
        "load_ext": "ExtensionMagics",
        "loadpy": "CodeMagics",
        "logoff": "LoggingMagics",
        "logon": "LoggingMagics",
        "logstart": "LoggingMagics",
        "logstate": "LoggingMagics",
        "logstop": "LoggingMagics",
        "ls": "Other",
        "lsmagic": "BasicMagics",
        "macro": "ExecutionMagics",
        "magic": "BasicMagics",
        "mamba": "PackagingMagics",
        "matplotlib": "PylabMagics",
        "micromamba": "PackagingMagics",
        "mkdir": "Other",
        "more": "KernelMagics",
        "notebook": "BasicMagics",
        "page": "BasicMagics",
        "pastebin": "CodeMagics",
        "pdb": "ExecutionMagics",
        "pdef": "NamespaceMagics",
        "pdoc": "NamespaceMagics",
        "pfile": "NamespaceMagics",
        "pinfo": "NamespaceMagics",
        "pinfo2": "NamespaceMagics",
        "pip": "PackagingMagics",
        "popd": "OSMagics",
        "pprint": "BasicMagics",
        "precision": "BasicMagics",
        "prun": "ExecutionMagics",
        "psearch": "NamespaceMagics",
        "psource": "NamespaceMagics",
        "pushd": "OSMagics",
        "pwd": "OSMagics",
        "pycat": "OSMagics",
        "pylab": "PylabMagics",
        "qtconsole": "KernelMagics",
        "quickref": "BasicMagics",
        "recall": "HistoryMagics",
        "rehashx": "OSMagics",
        "reload_ext": "ExtensionMagics",
        "ren": "Other",
        "rep": "Other",
        "rerun": "HistoryMagics",
        "reset": "NamespaceMagics",
        "reset_selective": "NamespaceMagics",
        "rmdir": "Other",
        "run": "ExecutionMagics",
        "save": "CodeMagics",
        "sc": "OSMagics",
        "set_env": "OSMagics",
        "store": "StoreMagics",
        "sx": "OSMagics",
        "system": "OSMagics",
        "tb": "ExecutionMagics",
        "time": "ExecutionMagics",
        "timeit": "ExecutionMagics",
        "unalias": "OSMagics",
        "unload_ext": "ExtensionMagics",
        "who": "NamespaceMagics",
        "who_ls": "NamespaceMagics",
        "whos": "NamespaceMagics",
        "xdel": "NamespaceMagics",
        "xmode": "BasicMagics"
       }
      },
      "text/plain": [
       "Available line magics:\n",
       "%alias  %alias_magic  %autoawait  %autocall  %automagic  %autosave  %bookmark  %cd  %clear  %cls  %code_wrap  %colors  %conda  %config  %connect_info  %copy  %ddir  %debug  %dhist  %dirs  %doctest_mode  %echo  %ed  %edit  %env  %gui  %hist  %history  %killbgscripts  %ldir  %less  %load  %load_ext  %loadpy  %logoff  %logon  %logstart  %logstate  %logstop  %ls  %lsmagic  %macro  %magic  %mamba  %matplotlib  %micromamba  %mkdir  %more  %notebook  %page  %pastebin  %pdb  %pdef  %pdoc  %pfile  %pinfo  %pinfo2  %pip  %popd  %pprint  %precision  %prun  %psearch  %psource  %pushd  %pwd  %pycat  %pylab  %qtconsole  %quickref  %recall  %rehashx  %reload_ext  %ren  %rep  %rerun  %reset  %reset_selective  %rmdir  %run  %save  %sc  %set_env  %store  %sx  %system  %tb  %time  %timeit  %unalias  %unload_ext  %who  %who_ls  %whos  %xdel  %xmode\n",
       "\n",
       "Available cell magics:\n",
       "%%!  %%HTML  %%SVG  %%bash  %%capture  %%cmd  %%code_wrap  %%debug  %%file  %%html  %%javascript  %%js  %%latex  %%markdown  %%perl  %%prun  %%pypy  %%python  %%python2  %%python3  %%ruby  %%script  %%sh  %%svg  %%sx  %%system  %%time  %%timeit  %%writefile\n",
       "\n",
       "Automagic is ON, % prefix IS NOT needed for line magics."
      ]
     },
     "execution_count": 1,
     "metadata": {},
     "output_type": "execute_result"
    }
   ],
   "source": [
    "%lsmagic"
   ]
  },
  {
   "cell_type": "code",
   "execution_count": 2,
   "id": "0dadd230-0a92-4c99-88f8-56e6cecf10d3",
   "metadata": {},
   "outputs": [
    {
     "name": "stdout",
     "output_type": "stream",
     "text": [
      "CPU times: total: 15.6 ms\n",
      "Wall time: 23.9 ms\n"
     ]
    },
    {
     "data": {
      "text/plain": [
       "499999500000"
      ]
     },
     "execution_count": 2,
     "metadata": {},
     "output_type": "execute_result"
    }
   ],
   "source": [
    "%time sum(range(1000000))"
   ]
  },
  {
   "cell_type": "code",
   "execution_count": 3,
   "id": "1e4fbd08-e83b-49d8-8675-1f43ed45ae37",
   "metadata": {},
   "outputs": [
    {
     "name": "stdout",
     "output_type": "stream",
     "text": [
      "20 ms ± 153 μs per loop (mean ± std. dev. of 7 runs, 10 loops each)\n"
     ]
    }
   ],
   "source": [
    "%timeit sum(range(1000000))"
   ]
  },
  {
   "cell_type": "code",
   "execution_count": 4,
   "id": "006a02f3-5f30-4ab9-8eb1-15c599fae415",
   "metadata": {},
   "outputs": [
    {
     "name": "stdout",
     "output_type": "stream",
     "text": [
      "Writing script.py\n"
     ]
    }
   ],
   "source": [
    "%%writefile script.py\n",
    "print(\"Этот скрипт выполнен из Jupyter Notebook!\")\n",
    "\n",
    "!python script.py"
   ]
  },
  {
   "cell_type": "code",
   "execution_count": 5,
   "id": "89655f55-9775-4a1e-add3-fb402220b8d4",
   "metadata": {},
   "outputs": [
    {
     "name": "stdout",
     "output_type": "stream",
     "text": [
      " Том в устройстве C не имеет метки.\n",
      " Серийный номер тома: 8CD6-2CD7\n",
      "\n",
      " Содержимое папки C:\\Users\\65ggg\n",
      "\n",
      "06.06.2025  12:59    <DIR>          .\n",
      "06.06.2025  12:59    <DIR>          ..\n",
      "05.06.2025  22:18    <DIR>          .anaconda\n",
      "01.04.2024  16:02    <DIR>          .android\n",
      "08.09.2023  22:52    <DIR>          .chatgpt\n",
      "06.06.2025  12:59    <DIR>          .conda\n",
      "05.06.2025  22:16               164 .condarc\n",
      "05.06.2025  22:00    <DIR>          .continuum\n",
      "01.04.2024  01:30    <DIR>          .dotnet\n",
      "04.06.2025  00:50               174 .gitconfig\n",
      "25.10.2022  17:42    <DIR>          .idlerc\n",
      "06.06.2025  12:58    <DIR>          .ipynb_checkpoints\n",
      "05.06.2025  22:22    <DIR>          .ipython\n",
      "05.06.2025  22:18    <DIR>          .jupyter\n",
      "05.06.2025  22:34    <DIR>          .matplotlib\n",
      "28.06.2021  20:57    <DIR>          .prefs\n",
      "01.04.2024  15:55    <DIR>          .templateengine\n",
      "05.06.2025  22:41    <DIR>          .virtual_documents\n",
      "21.12.2024  16:51    <DIR>          .VirtualBox\n",
      "16.03.2024  19:15    <DIR>          .vscode\n",
      "04.10.2023  12:51    <DIR>          .weasis\n",
      "30.01.2023  23:32             6 877 -1.14-windows.xml\n",
      "14.04.2021  00:53    <DIR>          3D Objects\n",
      "16.03.2024  19:17                 0 aaaa\n",
      "05.06.2025  22:06    <DIR>          anaconda_projects\n",
      "05.06.2025  22:06    <DIR>          anaconda3\n",
      "25.12.2023  20:22    <DIR>          AnyToResource\n",
      "05.03.2022  23:33    <DIR>          BrawlhallaReplays\n",
      "16.03.2024  19:19                 0 cd\n",
      "14.04.2021  00:53    <DIR>          Contacts\n",
      "01.01.2022  14:16    <DIR>          curseforge\n",
      "06.06.2025  11:29    <DIR>          Desktop\n",
      "16.03.2024  19:19                 0 dir\n",
      "08.11.2024  19:42    <DIR>          Documents\n",
      "06.06.2025  12:37    <DIR>          Downloads\n",
      "14.04.2021  00:53    <DIR>          Favorites\n",
      "05.06.2025  22:47    <DIR>          II labs\n",
      "19.06.2023  23:40    <DIR>          Kumir\n",
      "06.06.2025  12:56             1 754 lab1 P3 2.ipynb\n",
      "14.04.2021  00:53    <DIR>          Links\n",
      "14.04.2021  00:53    <DIR>          Music\n",
      "05.06.2025  22:21    <DIR>          notebooks\n",
      "10.08.2021  14:26    <DIR>          OneDrive\n",
      "06.06.2025  12:57             1 754 P3 2.ipynb\n",
      "06.06.2025  12:57                72 P3 3.ipynb\n",
      "06.05.2023  11:51    <DIR>          Pictures\n",
      "18.05.2025  21:49    <DIR>          PycharmProjects\n",
      "19.05.2025  03:57             1 262 PycharmProjects — ярлык.lnk\n",
      "14.04.2021  00:53    <DIR>          Saved Games\n",
      "06.06.2025  12:59                93 script.py\n",
      "14.04.2021  00:53    <DIR>          Searches\n",
      "21.09.2023  00:34    <DIR>          source\n",
      "05.06.2025  22:18                72 Untitled.ipynb\n",
      "14.02.2025  10:46    <DIR>          VeePN\n",
      "05.11.2024  23:58    <DIR>          Videos\n",
      "14.10.2024  22:23    <DIR>          VirtualBox VMs\n",
      "15.05.2025  23:47    <DIR>          YandexDisk\n",
      "              12 файлов         12 222 байт\n",
      "              45 папок  343 036 157 952 байт свободно\n"
     ]
    }
   ],
   "source": [
    "%ls"
   ]
  }
 ],
 "metadata": {
  "kernelspec": {
   "display_name": "Python [conda env:base] *",
   "language": "python",
   "name": "conda-base-py"
  },
  "language_info": {
   "codemirror_mode": {
    "name": "ipython",
    "version": 3
   },
   "file_extension": ".py",
   "mimetype": "text/x-python",
   "name": "python",
   "nbconvert_exporter": "python",
   "pygments_lexer": "ipython3",
   "version": "3.12.7"
  }
 },
 "nbformat": 4,
 "nbformat_minor": 5
}
