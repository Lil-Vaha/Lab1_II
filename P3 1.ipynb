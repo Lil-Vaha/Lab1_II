{
  "nbformat": 4,
  "nbformat_minor": 0,
  "metadata": {
    "colab": {
      "provenance": []
    },
    "kernelspec": {
      "name": "python3",
      "display_name": "Python 3"
    },
    "language_info": {
      "name": "python"
    }
  },
  "cells": [
    {
      "cell_type": "markdown",
      "source": [
        "# Практическое задание №1\n",
        "\n",
        "**Привет**, *Антон*! Добро пожаловать в **Google Colab**!\n",
        "\n",
        "1. Google Colab\n",
        "2. JupyterLab\n",
        "\n",
        "* Jupyter Notebook\n",
        "* Google Colab\n",
        "\n",
        "## Вариант 7\n",
        "\n",
        "$e^x=\\sum^\\infty_{n=0} \\frac{x^{n}}{n!}$"
      ],
      "metadata": {
        "id": "JKkSBQtnm9Ja"
      }
    },
    {
      "cell_type": "code",
      "source": [
        "name = input(\"Введите имя: \")\n",
        "print(f\"Привет, {name}! Добро пожаловать в Google Colab\")"
      ],
      "metadata": {
        "colab": {
          "base_uri": "https://localhost:8080/"
        },
        "id": "K7bYmjB9o7jc",
        "outputId": "b4fb5e7c-b7a5-454c-9f93-98399ad4dfe7"
      },
      "execution_count": 1,
      "outputs": [
        {
          "output_type": "stream",
          "name": "stdout",
          "text": [
            "Введите имя: Anton\n",
            "Привет, Anton! Добро пожаловать в Google Colab\n"
          ]
        }
      ]
    }
  ]
}