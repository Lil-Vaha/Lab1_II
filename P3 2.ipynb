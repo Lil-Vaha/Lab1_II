{
 "cells": [
  {
   "cell_type": "code",
   "execution_count": 1,
   "id": "b0d30575-6af4-4ba4-884c-38a67a5db0a5",
   "metadata": {},
   "outputs": [
    {
     "name": "stdout",
     "output_type": "stream",
     "text": [
      "Содержимое файла: \n",
      "Первая строчка\n",
      "Вторая строчка\n",
      "Третья строчка\n",
      "\n",
      "Файл `text.txt` существует.\n",
      "Файл `text.txt` удалён.\n"
     ]
    }
   ],
   "source": [
    "import os\n",
    "\n",
    "file_name = \"text.txt\"\n",
    "with open (file_name, \"w\") as file:\n",
    "    file.write(\"Первая строчка\\n\")\n",
    "    file.write(\"Вторая строчка\\n\")\n",
    "    file.write(\"Третья строчка\\n\")\n",
    "\n",
    "with open(file_name, \"r\") as file:\n",
    "    content = file.read()\n",
    "    print(\"Содержимое файла: \")\n",
    "    print(content)\n",
    "\n",
    "if os.path.exists(file_name):\n",
    "    print(f\"Файл `{file_name}` существует.\")\n",
    "else:\n",
    "    print(f\"Файл `{file_name}` не найдет.\")\n",
    "\n",
    "os.remove(file_name)\n",
    "print(f\"Файл `{file_name}` удалён.\")"
   ]
  }
 ],
 "metadata": {
  "kernelspec": {
   "display_name": "Python [conda env:base] *",
   "language": "python",
   "name": "conda-base-py"
  },
  "language_info": {
   "codemirror_mode": {
    "name": "ipython",
    "version": 3
   },
   "file_extension": ".py",
   "mimetype": "text/x-python",
   "name": "python",
   "nbconvert_exporter": "python",
   "pygments_lexer": "ipython3",
   "version": "3.12.7"
  }
 },
 "nbformat": 4,
 "nbformat_minor": 5
}
