{
  "nbformat": 4,
  "nbformat_minor": 0,
  "metadata": {
    "colab": {
      "provenance": []
    },
    "kernelspec": {
      "name": "python3",
      "display_name": "Python 3"
    },
    "language_info": {
      "name": "python"
    }
  },
  "cells": [
    {
      "cell_type": "code",
      "execution_count": 11,
      "metadata": {
        "colab": {
          "base_uri": "https://localhost:8080/"
        },
        "id": "e02-KUBGsrH3",
        "outputId": "3bc94035-1f87-47e4-cc2d-8168fdd3db92"
      },
      "outputs": [
        {
          "output_type": "stream",
          "name": "stdout",
          "text": [
            "Файл успешно сохранён: /text_file.txt\n"
          ]
        }
      ],
      "source": [
        "file_path = \"/text_file.txt\"\n",
        "\n",
        "with open(file_path, \"w\") as file:\n",
        "  file.write(\"Строка 1: Это тестовый файл для Google Drive!\\n\")\n",
        "  file.write(\"Строка 2: Он сохранён в MyDrive\")\n",
        "\n",
        "print(f\"Файл успешно сохранён: {file_path}\")"
      ]
    },
    {
      "cell_type": "code",
      "source": [
        "with open(file_path, \"r\", encoding=\"utf-8\") as file:\n",
        "  content = file.read()\n",
        "\n",
        "print(\"Содержимое файла:\\n\")\n",
        "print(content)"
      ],
      "metadata": {
        "colab": {
          "base_uri": "https://localhost:8080/"
        },
        "id": "3rgY56zVvgzQ",
        "outputId": "85874b1e-0db2-47ce-d160-ef3190e62a60"
      },
      "execution_count": 12,
      "outputs": [
        {
          "output_type": "stream",
          "name": "stdout",
          "text": [
            "Содержимое файла:\n",
            "\n",
            "Строка 1: Это тестовый файл для Google Drive!\n",
            "Строка 2: Он сохранён в MyDrive\n"
          ]
        }
      ]
    },
    {
      "cell_type": "code",
      "source": [
        "import csv\n",
        "\n",
        "csv_path = \"/students.csv\"\n",
        "\n",
        "students_data = [\n",
        "    [\"ФИО\", \"Возраст\", \"Группа\"],\n",
        "    [\"Вахненко Антон Александрович\", 19, \"ИВТ-23-1\"],\n",
        "    [\"Богуславский Дмитрий Дмитриевич\", 22, \"ИВТ-23-1\"],\n",
        "    [\"Галин Кирилл Алексеевич\", 19, \"ИВТ-23-1\"]\n",
        "]\n",
        "\n",
        "with open(csv_path, \"w\", newline=\"\") as file:\n",
        "  writer = csv.writer(file)\n",
        "  writer.writerows(students_data)\n",
        "\n",
        "print(f\"CSV-файл успешно сохранён: {csv_path}\")"
      ],
      "metadata": {
        "colab": {
          "base_uri": "https://localhost:8080/"
        },
        "id": "R-ZXsxuQv0-R",
        "outputId": "dc8a77f1-dc60-4a96-c960-8976f6883cad"
      },
      "execution_count": 14,
      "outputs": [
        {
          "output_type": "stream",
          "name": "stdout",
          "text": [
            "CSV-файл успешно сохранён: /students.csv\n"
          ]
        }
      ]
    },
    {
      "cell_type": "code",
      "source": [
        "with open(csv_path, \"r\", encoding=\"utf-8\") as file:\n",
        "  print(file.read())"
      ],
      "metadata": {
        "colab": {
          "base_uri": "https://localhost:8080/"
        },
        "id": "VOw4EFbmxofS",
        "outputId": "b5d2c347-781e-43f8-ea5b-abeff5300d0a"
      },
      "execution_count": 15,
      "outputs": [
        {
          "output_type": "stream",
          "name": "stdout",
          "text": [
            "ФИО,Возраст,Группа\n",
            "Вахненко Антон Александрович,19,ИВТ-23-1\n",
            "Богуславский Дмитрий Дмитриевич,22,ИВТ-23-1\n",
            "Галин Кирилл Алексеевич,19,ИВТ-23-1\n",
            "\n"
          ]
        }
      ]
    }
  ]
}